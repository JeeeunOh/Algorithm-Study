{
  "cells": [
    {
      "cell_type": "markdown",
      "metadata": {
        "id": "JJeY52mkwqe5"
      },
      "source": [
        "### 2022-1 Artificial Intelligence (01)\n",
        "## Homework #1: MLP from the scratch\n",
        "---\n",
        "Copyright (c) Prof. Jaehyeong Sim \n",
        "\n",
        "Department of Computer Science and Engineering\n",
        "\n",
        "Ewha Womans University"
      ]
    },
    {
      "cell_type": "code",
      "execution_count": null,
      "metadata": {
        "id": "LOgtScJ6VfFi"
      },
      "outputs": [],
      "source": [
        "import numpy as np"
      ]
    },
    {
      "cell_type": "code",
      "execution_count": null,
      "metadata": {
        "id": "Hw2ul1L7Vg5c"
      },
      "outputs": [],
      "source": [
        "# Sigmoid function\n",
        "def sigmoid(x):\n",
        "  # Problem 1.(a): fill here\n",
        "\n",
        "# Derivative of sigmoid function\n",
        "def dsigmoid(x):\n",
        "  # Problem 1.(a): fill here\n",
        "\n",
        "# Hyperbolic tangent function\n",
        "def tanh(x):\n",
        "  # Problem 1.(a): fill here\n",
        "\n",
        "# Derivative of hyperbolic tangent function\n",
        "def dtanh(x):\n",
        "  # Problem 1.(a): fill here"
      ]
    },
    {
      "cell_type": "code",
      "execution_count": null,
      "metadata": {
        "id": "g0MG-Fl4IMd_"
      },
      "outputs": [],
      "source": [
        "# Mean squared error function\n",
        "def MSE(O, T):\n",
        "  # Problem 1.(b): fill here\n",
        "\n",
        "# Derivative of hyperbolic tangent function\n",
        "def dMSE(O, T):\n",
        "  # Problem 1.(b): fill here"
      ]
    },
    {
      "cell_type": "code",
      "execution_count": null,
      "metadata": {
        "id": "g8VxeUNJWUQi"
      },
      "outputs": [],
      "source": [
        "class MLP:\n",
        "\n",
        "  def __init__(self, learning_rate=0.01, n_epochs=5, n_inputs=2, n_hiddens=2, n_outputs=1):\n",
        "    self.lr = learning_rate\n",
        "    self.n_epochs = n_epochs\n",
        "    \n",
        "    self.n_inputs = n_inputs\n",
        "    self.n_hiddens = n_hiddens\n",
        "    self.n_outputs = n_outputs\n",
        "\n",
        "    self.first_layer_activation_func = tanh\n",
        "    self.first_layer_dactivation_func = dtanh\n",
        "    self.second_layer_activation_func = sigmoid\n",
        "    self.second_layer_dactivation_func = dsigmoid\n",
        "    self.loss_func = MSE\n",
        "    self.dloss_func = dMSE\n",
        "    self.first_layer_weights = None\n",
        "    self.first_layer_bias = None\n",
        "    self.second_layer_weights = None\n",
        "    self.second_layer_bias = None\n",
        "\n",
        "  def _init_params(self):\n",
        "    # Problem 1.(c): fill here\n",
        "\n",
        "  def _forward(self, X, T):\n",
        "    # Problem 1.(d): fill here\n",
        "\n",
        "  def _backward(self, X, Z1, A1, Z2, A2, T):\n",
        "    # Problem 1.(e): fill here\n",
        "\n",
        "  def predict(self, X):\n",
        "    return self._forward(X, None)\n",
        "\n",
        "  def fit(self, X, T):\n",
        "    \n",
        "    self._init_params()\n",
        "    loss_trace = []\n",
        "\n",
        "    for _ in range(self.n_epochs):\n",
        "      Z1, A1, Z2, A2, loss = self._forward(X, T)\n",
        "      dW1, dB1, dW2, dB2 = self._backward(X, Z1, A1, Z2, A2, T)\n",
        "      \n",
        "      # Problem 1.(f): fill here\n",
        "\n",
        "      loss_trace.append(loss)\n",
        "\n",
        "    return loss_trace"
      ]
    },
    {
      "cell_type": "code",
      "execution_count": null,
      "metadata": {
        "id": "LrrU89LYg9Ch"
      },
      "outputs": [],
      "source": [
        "# Problem 1.(g): fill here"
      ]
    },
    {
      "cell_type": "code",
      "execution_count": null,
      "metadata": {
        "colab": {
          "base_uri": "https://localhost:8080/",
          "height": 279
        },
        "id": "HHn035KyleRt",
        "outputId": "ca8062a5-9344-48d9-e126-716ddb9adf2e"
      },
      "outputs": [
        {
          "data": {
            "image/png": "[encoded data removed]",
            "text/plain": [
              "<Figure size 432x288 with 1 Axes>"
            ]
          },
          "metadata": {
            "needs_background": "light"
          },
          "output_type": "display_data"
        }
      ],
      "source": [
        "import matplotlib.pyplot as plt\n",
        "\n",
        "plt.plot(loss_trace)\n",
        "plt.ylabel('loss')\n",
        "plt.xlabel('epochs')\n",
        "plt.show()"
      ]
    },
    {
      "cell_type": "code",
      "execution_count": null,
      "metadata": {
        "colab": {
          "base_uri": "https://localhost:8080/"
        },
        "id": "1vzx3NJTlodj",
        "outputId": "0758df98-c773-4c66-80b8-1d4c77a1174c"
      },
      "outputs": [
        {
          "name": "stdout",
          "output_type": "stream",
          "text": [
            "[[0.00202198]\n",
            " [0.01155712]\n",
            " [0.01364462]\n",
            " [0.98204736]]\n"
          ]
        }
      ],
      "source": [
        "# Print out XOR outputs for an input matrix X\n",
        "print(mlp.predict(X))"
      ]
    }
  ],
  "metadata": {
    "colab": {
      "collapsed_sections": [],
      "name": "[2021-1 AI] HW1-1_skeleton.ipynb",
      "provenance": []
    },
    "kernelspec": {
      "display_name": "Python 3",
      "name": "python3"
    },
    "language_info": {
      "name": "python"
    }
  },
  "nbformat": 4,
  "nbformat_minor": 0
}
