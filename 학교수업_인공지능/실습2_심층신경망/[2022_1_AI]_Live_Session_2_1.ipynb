{
  "cells": [
    {
      "cell_type": "markdown",
      "metadata": {
        "id": "JJeY52mkwqe5"
      },
      "source": [
        "### 2022-1 Artificial Intelligence (01)\n",
        "## Live Session #2-1: Character Recognition with DNN\n",
        "---\n",
        "Copyright (c) Prof. Jaehyeong Sim \n",
        "\n",
        "Department of Computer Science and Engineering\n",
        "\n",
        "Ewha Womans University"
      ]
    },
    {
      "cell_type": "code",
      "execution_count": 1,
      "metadata": {
        "id": "sMO8NP2IWX8y"
      },
      "outputs": [
        {
          "ename": "ModuleNotFoundError",
          "evalue": "No module named 'tensorflow'",
          "output_type": "error",
          "traceback": [
            "\u001b[0;31m---------------------------------------------------------------------------\u001b[0m",
            "\u001b[0;31mModuleNotFoundError\u001b[0m                       Traceback (most recent call last)",
            "\u001b[1;32m/Users/jieun/Documents/GitHub/Algorithm_Study/학교수업_인공지능/실습2_심층신경망/[2022_1_AI]_Live_Session_2_1.ipynb Cell 2'\u001b[0m in \u001b[0;36m<cell line: 1>\u001b[0;34m()\u001b[0m\n\u001b[0;32m----> <a href='vscode-notebook-cell:/Users/jieun/Documents/GitHub/Algorithm_Study/%ED%95%99%EA%B5%90%EC%88%98%EC%97%85_%EC%9D%B8%EA%B3%B5%EC%A7%80%EB%8A%A5/%EC%8B%A4%EC%8A%B52_%EC%8B%AC%EC%B8%B5%EC%8B%A0%EA%B2%BD%EB%A7%9D/%5B2022_1_AI%5D_Live_Session_2_1.ipynb#ch0000001?line=0'>1</a>\u001b[0m \u001b[39mimport\u001b[39;00m \u001b[39mtensorflow\u001b[39;00m \u001b[39mas\u001b[39;00m \u001b[39mtf\u001b[39;00m\n",
            "\u001b[0;31mModuleNotFoundError\u001b[0m: No module named 'tensorflow'"
          ]
        }
      ],
      "source": [
        "import tensorflow as tf"
      ]
    },
    {
      "cell_type": "code",
      "execution_count": 2,
      "metadata": {
        "id": "-jvXVDoaqD4G"
      },
      "outputs": [
        {
          "ename": "NameError",
          "evalue": "name 'tf' is not defined",
          "output_type": "error",
          "traceback": [
            "\u001b[0;31m---------------------------------------------------------------------------\u001b[0m",
            "\u001b[0;31mNameError\u001b[0m                                 Traceback (most recent call last)",
            "\u001b[1;32m/Users/jieun/Documents/GitHub/Algorithm_Study/학교수업_인공지능/실습2_심층신경망/[2022_1_AI]_Live_Session_2_1.ipynb Cell 3'\u001b[0m in \u001b[0;36m<cell line: 1>\u001b[0;34m()\u001b[0m\n\u001b[0;32m----> <a href='vscode-notebook-cell:/Users/jieun/Documents/GitHub/Algorithm_Study/%ED%95%99%EA%B5%90%EC%88%98%EC%97%85_%EC%9D%B8%EA%B3%B5%EC%A7%80%EB%8A%A5/%EC%8B%A4%EC%8A%B52_%EC%8B%AC%EC%B8%B5%EC%8B%A0%EA%B2%BD%EB%A7%9D/%5B2022_1_AI%5D_Live_Session_2_1.ipynb#ch0000002?line=0'>1</a>\u001b[0m mnist \u001b[39m=\u001b[39m tf\u001b[39m.\u001b[39mkeras\u001b[39m.\u001b[39mdatasets\u001b[39m.\u001b[39mmnist\n\u001b[1;32m      <a href='vscode-notebook-cell:/Users/jieun/Documents/GitHub/Algorithm_Study/%ED%95%99%EA%B5%90%EC%88%98%EC%97%85_%EC%9D%B8%EA%B3%B5%EC%A7%80%EB%8A%A5/%EC%8B%A4%EC%8A%B52_%EC%8B%AC%EC%B8%B5%EC%8B%A0%EA%B2%BD%EB%A7%9D/%5B2022_1_AI%5D_Live_Session_2_1.ipynb#ch0000002?line=2'>3</a>\u001b[0m (x_train, y_train), (x_test, y_test) \u001b[39m=\u001b[39m mnist\u001b[39m.\u001b[39mload_data()\n\u001b[1;32m      <a href='vscode-notebook-cell:/Users/jieun/Documents/GitHub/Algorithm_Study/%ED%95%99%EA%B5%90%EC%88%98%EC%97%85_%EC%9D%B8%EA%B3%B5%EC%A7%80%EB%8A%A5/%EC%8B%A4%EC%8A%B52_%EC%8B%AC%EC%B8%B5%EC%8B%A0%EA%B2%BD%EB%A7%9D/%5B2022_1_AI%5D_Live_Session_2_1.ipynb#ch0000002?line=3'>4</a>\u001b[0m x_train, x_test \u001b[39m=\u001b[39m x_train \u001b[39m/\u001b[39m \u001b[39m255.0\u001b[39m, x_test \u001b[39m/\u001b[39m \u001b[39m255.0\u001b[39m\n",
            "\u001b[0;31mNameError\u001b[0m: name 'tf' is not defined"
          ]
        }
      ],
      "source": [
        "mnist = tf.keras.datasets.mnist\n",
        "\n",
        "(x_train, y_train), (x_test, y_test) = mnist.load_data()\n",
        "x_train, x_test = x_train / 255.0, x_test / 255.0"
      ]
    },
    {
      "cell_type": "code",
      "execution_count": null,
      "metadata": {
        "id": "AHe37Au-p2Qw"
      },
      "outputs": [],
      "source": [
        "model = tf.keras.models.Sequential([\n",
        "  tf.keras.layers.Flatten(input_shape=(28, 28)),\n",
        "  tf.keras.layers.Dense(128, activation='tanh'),\n",
        "  tf.keras.layers.Dense(10, activation='softmax')\n",
        "])"
      ]
    },
    {
      "cell_type": "code",
      "execution_count": null,
      "metadata": {
        "id": "kg7y6B_6qSJ6"
      },
      "outputs": [],
      "source": [
        "model.compile(optimizer='adam', loss='sparse_categorical_crossentropy', metrics=['accuracy'])"
      ]
    },
    {
      "cell_type": "code",
      "execution_count": null,
      "metadata": {
        "id": "Ttc3i_x-qdSP"
      },
      "outputs": [],
      "source": [
        "model.fit(x_train, y_train, epochs=5)"
      ]
    },
    {
      "cell_type": "code",
      "execution_count": null,
      "metadata": {
        "id": "psX5vDJ4qeHM"
      },
      "outputs": [],
      "source": [
        "model.evaluate(x_test,  y_test, verbose=2)"
      ]
    },
    {
      "cell_type": "code",
      "execution_count": null,
      "metadata": {
        "id": "5Y-w2bv1qgVB"
      },
      "outputs": [],
      "source": [
        "import numpy as np\n",
        "import matplotlib.pyplot as plt\n",
        "from PIL import Image\n",
        "\n",
        "# https://www.photopea.com/\n",
        "\n",
        "im = Image.open('test.png')\n",
        "plt.imshow(im)"
      ]
    },
    {
      "cell_type": "code",
      "execution_count": null,
      "metadata": {
        "id": "OFOtkdrpsKc1"
      },
      "outputs": [],
      "source": [
        "im = np.array(im)"
      ]
    },
    {
      "cell_type": "code",
      "execution_count": null,
      "metadata": {
        "id": "1XaBDf_RsQnG"
      },
      "outputs": [],
      "source": [
        "a = model.predict(np.reshape(im, (1, 28, 28)))"
      ]
    },
    {
      "cell_type": "code",
      "execution_count": null,
      "metadata": {
        "id": "a4R3FtVssRQs"
      },
      "outputs": [],
      "source": [
        "np.set_printoptions(formatter={'float_kind': lambda x: \"{0:0.2f}\".format(x)})\n",
        "\n",
        "print(a)\n",
        "print(max(a[0]))\n",
        "print(list(a[0]).index(max(a[0])))"
      ]
    }
  ],
  "metadata": {
    "colab": {
      "collapsed_sections": [],
      "name": "[2022-1 AI] Live Session 2-1.ipynb",
      "provenance": []
    },
    "kernelspec": {
      "display_name": "Python 3",
      "name": "python3"
    },
    "language_info": {
      "codemirror_mode": {
        "name": "ipython",
        "version": 3
      },
      "file_extension": ".py",
      "mimetype": "text/x-python",
      "name": "python",
      "nbconvert_exporter": "python",
      "pygments_lexer": "ipython3",
      "version": "3.8.9"
    }
  },
  "nbformat": 4,
  "nbformat_minor": 0
}
