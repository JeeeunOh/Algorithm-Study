{
  "nbformat": 4,
  "nbformat_minor": 0,
  "metadata": {
    "colab": {
      "name": "[2022-1 AI] Live Session 2-2.ipynb",
      "provenance": [],
      "collapsed_sections": []
    },
    "kernelspec": {
      "name": "python3",
      "display_name": "Python 3"
    },
    "language_info": {
      "name": "python"
    }
  },
  "cells": [
    {
      "cell_type": "markdown",
      "source": [
        "### 2022-1 Artificial Intelligence (01)\n",
        "## Live Session #2-2: Character Recognition with CNN\n",
        "---\n",
        "Copyright (c) Prof. Jaehyeong Sim \n",
        "\n",
        "Department of Computer Science and Engineering\n",
        "\n",
        "Ewha Womans University"
      ],
      "metadata": {
        "id": "JJeY52mkwqe5"
      }
    },
    {
      "cell_type": "code",
      "source": [
        "import tensorflow as tf"
      ],
      "metadata": {
        "id": "sMO8NP2IWX8y"
      },
      "execution_count": null,
      "outputs": []
    },
    {
      "cell_type": "code",
      "source": [
        "mnist = tf.keras.datasets.mnist\n",
        "\n",
        "(x_train, y_train), (x_test, y_test) = mnist.load_data()\n",
        "\n",
        "x_train = tf.pad(x_train/255.0, [[0, 0], [2,2], [2,2]])\n",
        "x_test = tf.pad(x_test/255.0, [[0, 0], [2,2], [2,2]])\n",
        "x_train = tf.expand_dims(x_train, axis=3, name=None)\n",
        "x_test = tf.expand_dims(x_test, axis=3, name=None)"
      ],
      "metadata": {
        "id": "-jvXVDoaqD4G"
      },
      "execution_count": null,
      "outputs": []
    },
    {
      "cell_type": "code",
      "source": [
        "model = tf.keras.models.Sequential([\n",
        "  tf.keras.layers.Conv2D(6, 5, activation='tanh', input_shape=x_train.shape[1:]),\n",
        "  tf.keras.layers.MaxPooling2D(2),\n",
        "  tf.keras.layers.Conv2D(16, 5, activation='tanh'),\n",
        "  tf.keras.layers.MaxPooling2D(2),\n",
        "  tf.keras.layers.Flatten(),\n",
        "  tf.keras.layers.Dense(120, activation='tanh'),\n",
        "  tf.keras.layers.Dense(84, activation='tanh'),\n",
        "  tf.keras.layers.Dense(10, activation='softmax')\n",
        "])"
      ],
      "metadata": {
        "id": "AHe37Au-p2Qw"
      },
      "execution_count": null,
      "outputs": []
    },
    {
      "cell_type": "code",
      "source": [
        "model.compile(optimizer='adam', loss='sparse_categorical_crossentropy', metrics=['accuracy'])"
      ],
      "metadata": {
        "id": "kg7y6B_6qSJ6"
      },
      "execution_count": null,
      "outputs": []
    },
    {
      "cell_type": "code",
      "source": [
        "import datetime\n",
        "\n",
        "log_dir = \"logs/my_board/\" + datetime.datetime.now().strftime(\"%Y%m%d-%H%M%S\")\n",
        "\n",
        "tensorboard_callback = tf.keras.callbacks.TensorBoard(log_dir=log_dir, histogram_freq=1)"
      ],
      "metadata": {
        "id": "i5ugKCmayWdL"
      },
      "execution_count": null,
      "outputs": []
    },
    {
      "cell_type": "code",
      "source": [
        "model.fit(x_train, y_train, epochs=5, callbacks=[tensorboard_callback])"
      ],
      "metadata": {
        "id": "Ttc3i_x-qdSP"
      },
      "execution_count": null,
      "outputs": []
    },
    {
      "cell_type": "code",
      "source": [
        "model.evaluate(x_test,  y_test, verbose=2)"
      ],
      "metadata": {
        "id": "psX5vDJ4qeHM"
      },
      "execution_count": null,
      "outputs": []
    },
    {
      "cell_type": "code",
      "source": [
        "import numpy as np\n",
        "import matplotlib.pyplot as plt\n",
        "from PIL import Image\n",
        "\n",
        "# https://www.photopea.com/\n",
        "\n",
        "im = Image.open('test.png')\n",
        "plt.imshow(im)"
      ],
      "metadata": {
        "id": "5Y-w2bv1qgVB"
      },
      "execution_count": null,
      "outputs": []
    },
    {
      "cell_type": "code",
      "source": [
        "im = np.array(im)/255.0\n",
        "im = tf.pad(im, [[2,2], [2,2]])"
      ],
      "metadata": {
        "id": "OFOtkdrpsKc1"
      },
      "execution_count": null,
      "outputs": []
    },
    {
      "cell_type": "code",
      "source": [
        "a = model.predict(np.reshape(im, (1, 32, 32, 1)))"
      ],
      "metadata": {
        "id": "1XaBDf_RsQnG"
      },
      "execution_count": null,
      "outputs": []
    },
    {
      "cell_type": "code",
      "source": [
        "np.set_printoptions(formatter={'float_kind': lambda x: \"{0:0.2f}\".format(x)})\n",
        "\n",
        "print(a)\n",
        "print(max(a[0]))\n",
        "print(list(a[0]).index(max(a[0])))"
      ],
      "metadata": {
        "id": "a4R3FtVssRQs"
      },
      "execution_count": null,
      "outputs": []
    },
    {
      "cell_type": "code",
      "source": [
        "%load_ext tensorboard\n",
        "%tensorboard --logdir {log_dir}"
      ],
      "metadata": {
        "id": "MBKkaKy1yspR"
      },
      "execution_count": null,
      "outputs": []
    }
  ]
}